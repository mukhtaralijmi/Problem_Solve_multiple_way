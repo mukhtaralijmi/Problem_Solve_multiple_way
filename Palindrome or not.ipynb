{
 "cells": [
  {
   "cell_type": "markdown",
   "metadata": {},
   "source": [
    "Python program to check if a string is palindrome or not"
   ]
  },
  {
   "cell_type": "markdown",
   "metadata": {},
   "source": [
    "# Method-1 Using slice [::-1] string"
   ]
  },
  {
   "cell_type": "code",
   "execution_count": 3,
   "metadata": {},
   "outputs": [
    {
     "name": "stdout",
     "output_type": "stream",
     "text": [
      "String is palindrome \n"
     ]
    }
   ],
   "source": [
    "def check_palindrome(str1):\n",
    "    if str1==str1[::-1]:\n",
    "        print('String is palindrome ')\n",
    "    else:\n",
    "        \n",
    "        print('String not palindrome')\n",
    "str1='mam'\n",
    "check_palindrome(str1)"
   ]
  },
  {
   "cell_type": "markdown",
   "metadata": {},
   "source": [
    "# Method-2 Using For loop "
   ]
  },
  {
   "cell_type": "code",
   "execution_count": 38,
   "metadata": {},
   "outputs": [
    {
     "name": "stdout",
     "output_type": "stream",
     "text": [
      "GooG is palindrome\n"
     ]
    }
   ],
   "source": [
    "def check_palindrome(str1):\n",
    "    \n",
    "    for i in range(0,int(len(str1)/2)):\n",
    "        if str1[i]!=str1[len(str1)-i-1]:\n",
    "               return False\n",
    "        return True\n",
    "str1='GooG'\n",
    "check=check_palindrome(str1)\n",
    "if (check):\n",
    "    print(f'{str1} is palindrome')\n",
    "else:\n",
    "    print(f'{str1}  is Not palindrome')"
   ]
  },
  {
   "cell_type": "markdown",
   "metadata": {},
   "source": [
    "# Method-3 Using reversed() in_build python"
   ]
  },
  {
   "cell_type": "code",
   "execution_count": 40,
   "metadata": {},
   "outputs": [
    {
     "name": "stdout",
     "output_type": "stream",
     "text": [
      "String not palindrome\n"
     ]
    }
   ],
   "source": [
    "def check_palindrome(str1):\n",
    "    if str1==''.join(reversed(str1)):\n",
    "        print('String is palindrome ')\n",
    "    else:\n",
    "        \n",
    "        print('String not palindrome')\n",
    "str1='mamouyh'\n",
    "check_palindrome(str1)"
   ]
  },
  {
   "cell_type": "markdown",
   "metadata": {},
   "source": [
    "# Method-4 using one extra variable like empty string w=''"
   ]
  },
  {
   "cell_type": "code",
   "execution_count": 46,
   "metadata": {},
   "outputs": [
    {
     "name": "stdout",
     "output_type": "stream",
     "text": [
      " mamouyh String not palindrome\n"
     ]
    }
   ],
   "source": [
    "def check_palindrome(str1):\n",
    "    w=''\n",
    "    for i in str1:\n",
    "        w=i+w\n",
    "    if (str1==w):\n",
    "         print(f' {str1} String is palindrome')\n",
    "    else:\n",
    "        print(f' {str1} String not palindrome')\n",
    "            \n",
    "str1='mamouyh'\n",
    "check_palindrome(str1)"
   ]
  },
  {
   "cell_type": "markdown",
   "metadata": {},
   "source": [
    "# Method 5 using flag  string length more then 2"
   ]
  },
  {
   "cell_type": "code",
   "execution_count": 71,
   "metadata": {},
   "outputs": [
    {
     "name": "stdout",
     "output_type": "stream",
     "text": [
      "Yes\n"
     ]
    }
   ],
   "source": [
    "str1='jtj'\n",
    "j=-1\n",
    "flag=0\n",
    "for i in str1:\n",
    "    if i!=str1[j]:\n",
    "        j=j-1\n",
    "        flag=1\n",
    "        break\n",
    "    j=j-1\n",
    "if flag==1:\n",
    "    print('No')\n",
    "    \n",
    "else:\n",
    "    print('Yes')"
   ]
  },
  {
   "cell_type": "markdown",
   "metadata": {},
   "source": [
    "# Method 5 Method using recursion"
   ]
  },
  {
   "cell_type": "code",
   "execution_count": 72,
   "metadata": {},
   "outputs": [
    {
     "name": "stdout",
     "output_type": "stream",
     "text": [
      "Yes\n"
     ]
    }
   ],
   "source": [
    "def check_palindrome(str1):\n",
    "   \n",
    "   \n",
    "    l = len(str1)\n",
    "     \n",
    "    \n",
    "    if l < 2:\n",
    "        return True\n",
    " \n",
    "   \n",
    "    elif str1[0] == str1[l - 1]:\n",
    "        \n",
    "       \n",
    "        return check_palindrome(str1[1: l - 1])\n",
    " \n",
    "    else:\n",
    "        return False\n",
    "str1='bab'\n",
    "ans = check_palindrome(str1)\n",
    " \n",
    "if ans:\n",
    "    print(\"Yes\")\n",
    "else:\n",
    "    print(\"No\")"
   ]
  },
  {
   "cell_type": "code",
   "execution_count": null,
   "metadata": {},
   "outputs": [],
   "source": []
  },
  {
   "cell_type": "code",
   "execution_count": null,
   "metadata": {},
   "outputs": [],
   "source": []
  }
 ],
 "metadata": {
  "kernelspec": {
   "display_name": "Python 3",
   "language": "python",
   "name": "python3"
  },
  "language_info": {
   "codemirror_mode": {
    "name": "ipython",
    "version": 3
   },
   "file_extension": ".py",
   "mimetype": "text/x-python",
   "name": "python",
   "nbconvert_exporter": "python",
   "pygments_lexer": "ipython3",
   "version": "3.8.2"
  }
 },
 "nbformat": 4,
 "nbformat_minor": 4
}
