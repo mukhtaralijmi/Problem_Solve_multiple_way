{
 "cells": [
  {
   "cell_type": "markdown",
   "metadata": {},
   "source": [
    "1.Removing unwanted or Special characters from string"
   ]
  },
  {
   "cell_type": "markdown",
   "metadata": {},
   "source": [
    "# Method-1  using replace() in-build function"
   ]
  },
  {
   "cell_type": "code",
   "execution_count": 31,
   "metadata": {},
   "outputs": [
    {
     "name": "stdout",
     "output_type": "stream",
     "text": [
      "Thisstringcontainsspecialcharacters\n"
     ]
    }
   ],
   "source": [
    "def remove_spc(str1):\n",
    "    punctuation='!\"#$%&\\'()*+,-./:;<=>?@[\\\\]^_`{|}~'\n",
    "    for i in punctuation:\n",
    "        str1=str1.replace(i,'')\n",
    "    return str1\n",
    "str1='This*string%contains#special^&characters'\n",
    "print(remove_spc(str1))"
   ]
  },
  {
   "cell_type": "markdown",
   "metadata": {},
   "source": [
    "# Method -2 using Using join() generator "
   ]
  },
  {
   "cell_type": "code",
   "execution_count": 33,
   "metadata": {},
   "outputs": [
    {
     "name": "stdout",
     "output_type": "stream",
     "text": [
      "Thisstringcontainsspecialcharacters\n"
     ]
    }
   ],
   "source": [
    "def remove_spc(str1):\n",
    "    punctuation='!\"#$%&\\'()*+,-./:;<=>?@[\\\\]^_`{|}~'\n",
    "    str1=''.join(i for i in str1 if i not in punctuation)\n",
    "            \n",
    "    return str1\n",
    "str1='This*string%contains#special^&characters'\n",
    "print(str(remove_spc(str1)))"
   ]
  },
  {
   "cell_type": "markdown",
   "metadata": {},
   "source": [
    "# Method -3  Using filter(lambda) "
   ]
  },
  {
   "cell_type": "code",
   "execution_count": 35,
   "metadata": {},
   "outputs": [
    {
     "name": "stdout",
     "output_type": "stream",
     "text": [
      "Thisstringcontainsspecialcharacters\n"
     ]
    }
   ],
   "source": [
    "def remove_spc(str1):\n",
    "    punctuation='!\"#$%&\\'()*+,-./:;<=>?@[\\\\]^_`{|}~'\n",
    "    str1=''.join((filter(lambda i:i not in punctuation,str1)))\n",
    "            \n",
    "    return str1\n",
    "str1='This*string%contains#special^&characters'\n",
    "print(str(remove_spc(str1)))"
   ]
  },
  {
   "cell_type": "markdown",
   "metadata": {},
   "source": [
    "# Method -4  Using translate() "
   ]
  },
  {
   "cell_type": "code",
   "execution_count": 37,
   "metadata": {},
   "outputs": [
    {
     "name": "stdout",
     "output_type": "stream",
     "text": [
      "Thisstringcontainsspecialcharacters\n"
     ]
    }
   ],
   "source": [
    "def remove_spc(str1):\n",
    "    punctuation='!\"#$%&\\'()*+,-./:;<=>?@[\\\\]^_`{|}~'\n",
    "    remove_dict = {sp_char: '' for sp_char in string.punctuation}\n",
    "    remove_dict[' '] = ''\n",
    "    table = str.maketrans(remove_dict)\n",
    "    str1 = str1.translate(table)\n",
    "            \n",
    "    return str1\n",
    "str1='This*string%contains#special^&characters'\n",
    "print(str(remove_spc(str1)))"
   ]
  },
  {
   "cell_type": "code",
   "execution_count": null,
   "metadata": {},
   "outputs": [],
   "source": []
  }
 ],
 "metadata": {
  "kernelspec": {
   "display_name": "Python 3",
   "language": "python",
   "name": "python3"
  },
  "language_info": {
   "codemirror_mode": {
    "name": "ipython",
    "version": 3
   },
   "file_extension": ".py",
   "mimetype": "text/x-python",
   "name": "python",
   "nbconvert_exporter": "python",
   "pygments_lexer": "ipython3",
   "version": "3.8.2"
  }
 },
 "nbformat": 4,
 "nbformat_minor": 4
}
